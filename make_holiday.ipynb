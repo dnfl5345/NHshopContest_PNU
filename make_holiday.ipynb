{
 "metadata": {
  "language_info": {
   "codemirror_mode": {
    "name": "ipython",
    "version": 3
   },
   "file_extension": ".py",
   "mimetype": "text/x-python",
   "name": "python",
   "nbconvert_exporter": "python",
   "pygments_lexer": "ipython3",
   "version": "3.7.3-final"
  },
  "orig_nbformat": 2,
  "kernelspec": {
   "name": "python37364bitbaseconda6e11b9c8d5c54cd9a3095ea967af262b",
   "display_name": "Python 3.7.3 64-bit ('base': conda)"
  }
 },
 "nbformat": 4,
 "nbformat_minor": 2,
 "cells": [
  {
   "cell_type": "markdown",
   "metadata": {},
   "source": [
    "# 국경일, 공휴일을 캐치해서 0,1로 분류하는 함수"
   ]
  },
  {
   "cell_type": "code",
   "execution_count": 287,
   "metadata": {},
   "outputs": [],
   "source": [
    "import pandas as pd\n",
    "import datetime"
   ]
  },
  {
   "cell_type": "code",
   "execution_count": null,
   "metadata": {},
   "outputs": [],
   "source": [
    "dt = datetime.datetime.now()\n",
    "dt"
   ]
  },
  {
   "cell_type": "code",
   "execution_count": 398,
   "metadata": {},
   "outputs": [],
   "source": [
    "data = pd.read_excel('../2020데이터/01_제공데이터/performance_data.xlsx',header = 1)"
   ]
  },
  {
   "cell_type": "code",
   "execution_count": 399,
   "metadata": {
    "tags": []
   },
   "outputs": [
    {
     "output_type": "stream",
     "name": "stdout",
     "text": "<class 'pandas.core.frame.DataFrame'>\nRangeIndex: 38309 entries, 0 to 38308\nData columns (total 8 columns):\n방송일시     38309 non-null datetime64[ns]\n노출(분)    21525 non-null float64\n마더코드     38309 non-null int64\n상품코드     38309 non-null int64\n상품명      38309 non-null object\n상품군      38309 non-null object\n판매단가     38309 non-null int64\n취급액      37372 non-null float64\ndtypes: datetime64[ns](1), float64(2), int64(3), object(2)\nmemory usage: 2.3+ MB\n"
    }
   ],
   "source": [
    "data.info()"
   ]
  },
  {
   "cell_type": "code",
   "execution_count": 400,
   "metadata": {},
   "outputs": [
    {
     "output_type": "execute_result",
     "data": {
      "text/plain": "0    1\n1    1\n2    1\n3    1\n4    1\nName: 방송일시, dtype: int64"
     },
     "metadata": {},
     "execution_count": 400
    }
   ],
   "source": [
    "data['방송일시'].dt.day.head()"
   ]
  },
  {
   "cell_type": "markdown",
   "metadata": {},
   "source": [
    "# 공공데이터 open api"
   ]
  },
  {
   "cell_type": "code",
   "execution_count": 295,
   "metadata": {},
   "outputs": [],
   "source": [
    "# 파라미터\n",
    "import requests\n",
    "from bs4 import BeautifulSoup\n",
    "\n",
    "year = '2019'\n",
    "mykey = 'H2U3MYpA5cdO9eidjraO87W8mSVkIo77SNPtdNmNm31T33EFszX9mnbji8AFKCZka6jDsAHG%2BCga0yEkZCim%2Fw%3D%3D'\n",
    "\n",
    "holiday_2019 = []\n",
    "\n",
    "for month in range(1,13):\n",
    "    # int형으로 받은 숫자 중 10이하 한자리 수면 0을 붙여서 string으로 변환하고,\n",
    "    # 아니면 그대로 string형으로 변환\n",
    "    if month < 10:\n",
    "        month = '0' + str(month)\n",
    "    else:\n",
    "        month = str(month)\n",
    "\n",
    "    url = ' http://apis.data.go.kr/B090041/openapi/service/SpcdeInfoService/getRestDeInfo?solYear=%s&solMonth=%s&ServiceKey=%s' % (year, month, mykey)\n",
    "    \n",
    "    get_data = requests.get(url)\n",
    "    soup = BeautifulSoup(get_data.content, 'html.parser')\n",
    "    table = soup.find_all('locdate')\n",
    "    for i in table:\n",
    "        holiday_2019.append(i.text)"
   ]
  },
  {
   "cell_type": "code",
   "execution_count": 298,
   "metadata": {},
   "outputs": [
    {
     "output_type": "execute_result",
     "data": {
      "text/plain": "['20190101',\n '20190204',\n '20190205',\n '20190206',\n '20190301',\n '20190505',\n '20190506',\n '20190512',\n '20190606',\n '20190815',\n '20190912',\n '20190913',\n '20190914',\n '20191003',\n '20191009',\n '20191225']"
     },
     "metadata": {},
     "execution_count": 298
    }
   ],
   "source": [
    "holiday_2019"
   ]
  },
  {
   "cell_type": "markdown",
   "metadata": {},
   "source": [
    "# 휴일변수"
   ]
  },
  {
   "cell_type": "code",
   "execution_count": 401,
   "metadata": {},
   "outputs": [],
   "source": [
    "holiday_2019 = pd.to_datetime(holiday_2019)"
   ]
  },
  {
   "cell_type": "code",
   "execution_count": 402,
   "metadata": {},
   "outputs": [
    {
     "output_type": "execute_result",
     "data": {
      "text/plain": "0    True\n1    True\n2    True\n3    True\n4    True\nName: 방송일시, dtype: bool"
     },
     "metadata": {},
     "execution_count": 402
    }
   ],
   "source": [
    "# (data['방송일시'].dt.date.isin(pd.to_datetime(holiday_2019)))\n",
    "data['방송일시'].dt.date.isin(holiday_2019.date).head()"
   ]
  },
  {
   "cell_type": "code",
   "execution_count": 403,
   "metadata": {},
   "outputs": [],
   "source": [
    "data['휴일변수'] = data['방송일시'].dt.weekday.isin([5,6]).values | (data['방송일시'].dt.date.isin(holiday_2019.date))"
   ]
  },
  {
   "cell_type": "markdown",
   "metadata": {},
   "source": [
    "# 요일변수"
   ]
  },
  {
   "cell_type": "markdown",
   "metadata": {},
   "source": [
    "# 요일변수"
   ]
  },
  {
   "cell_type": "code",
   "execution_count": 404,
   "metadata": {},
   "outputs": [],
   "source": [
    "data['요일변수'] = data['방송일시'].dt.weekday"
   ]
  },
  {
   "cell_type": "code",
   "execution_count": 405,
   "metadata": {},
   "outputs": [
    {
     "output_type": "execute_result",
     "data": {
      "text/plain": "array([1, 2, 3, 4, 5, 6, 0], dtype=int64)"
     },
     "metadata": {},
     "execution_count": 405
    }
   ],
   "source": [
    "data['요일변수'].unique()"
   ]
  },
  {
   "cell_type": "markdown",
   "metadata": {},
   "source": [
    "# 주말 변수"
   ]
  },
  {
   "cell_type": "markdown",
   "metadata": {},
   "source": [
    "# 주말변수 생성(주말:토(5), 일(6))"
   ]
  },
  {
   "cell_type": "code",
   "execution_count": 408,
   "metadata": {},
   "outputs": [
    {
     "output_type": "execute_result",
     "data": {
      "text/plain": "                 방송일시  노출(분)    마더코드    상품코드            상품명 상품군   판매단가  \\\n0 2019-01-01 06:00:00   20.0  100346  201072  테이트 남성 셀린니트3종  의류  39900   \n1 2019-01-01 06:00:00    NaN  100346  201079  테이트 여성 셀린니트3종  의류  39900   \n2 2019-01-01 06:20:00   20.0  100346  201072  테이트 남성 셀린니트3종  의류  39900   \n3 2019-01-01 06:20:00    NaN  100346  201079  테이트 여성 셀린니트3종  의류  39900   \n4 2019-01-01 06:40:00   20.0  100346  201072  테이트 남성 셀린니트3종  의류  39900   \n\n         취급액  휴일변수  요일변수   주말변수  \n0  2099000.0  True     1  False  \n1  4371000.0  True     1  False  \n2  3262000.0  True     1  False  \n3  6955000.0  True     1  False  \n4  6672000.0  True     1  False  ",
      "text/html": "<div>\n<style scoped>\n    .dataframe tbody tr th:only-of-type {\n        vertical-align: middle;\n    }\n\n    .dataframe tbody tr th {\n        vertical-align: top;\n    }\n\n    .dataframe thead th {\n        text-align: right;\n    }\n</style>\n<table border=\"1\" class=\"dataframe\">\n  <thead>\n    <tr style=\"text-align: right;\">\n      <th></th>\n      <th>방송일시</th>\n      <th>노출(분)</th>\n      <th>마더코드</th>\n      <th>상품코드</th>\n      <th>상품명</th>\n      <th>상품군</th>\n      <th>판매단가</th>\n      <th>취급액</th>\n      <th>휴일변수</th>\n      <th>요일변수</th>\n      <th>주말변수</th>\n    </tr>\n  </thead>\n  <tbody>\n    <tr>\n      <th>0</th>\n      <td>2019-01-01 06:00:00</td>\n      <td>20.0</td>\n      <td>100346</td>\n      <td>201072</td>\n      <td>테이트 남성 셀린니트3종</td>\n      <td>의류</td>\n      <td>39900</td>\n      <td>2099000.0</td>\n      <td>True</td>\n      <td>1</td>\n      <td>False</td>\n    </tr>\n    <tr>\n      <th>1</th>\n      <td>2019-01-01 06:00:00</td>\n      <td>NaN</td>\n      <td>100346</td>\n      <td>201079</td>\n      <td>테이트 여성 셀린니트3종</td>\n      <td>의류</td>\n      <td>39900</td>\n      <td>4371000.0</td>\n      <td>True</td>\n      <td>1</td>\n      <td>False</td>\n    </tr>\n    <tr>\n      <th>2</th>\n      <td>2019-01-01 06:20:00</td>\n      <td>20.0</td>\n      <td>100346</td>\n      <td>201072</td>\n      <td>테이트 남성 셀린니트3종</td>\n      <td>의류</td>\n      <td>39900</td>\n      <td>3262000.0</td>\n      <td>True</td>\n      <td>1</td>\n      <td>False</td>\n    </tr>\n    <tr>\n      <th>3</th>\n      <td>2019-01-01 06:20:00</td>\n      <td>NaN</td>\n      <td>100346</td>\n      <td>201079</td>\n      <td>테이트 여성 셀린니트3종</td>\n      <td>의류</td>\n      <td>39900</td>\n      <td>6955000.0</td>\n      <td>True</td>\n      <td>1</td>\n      <td>False</td>\n    </tr>\n    <tr>\n      <th>4</th>\n      <td>2019-01-01 06:40:00</td>\n      <td>20.0</td>\n      <td>100346</td>\n      <td>201072</td>\n      <td>테이트 남성 셀린니트3종</td>\n      <td>의류</td>\n      <td>39900</td>\n      <td>6672000.0</td>\n      <td>True</td>\n      <td>1</td>\n      <td>False</td>\n    </tr>\n  </tbody>\n</table>\n</div>"
     },
     "metadata": {},
     "execution_count": 408
    }
   ],
   "source": [
    "data.head()"
   ]
  },
  {
   "cell_type": "markdown",
   "metadata": {},
   "source": [
    "# 오전오후저녁 변수"
   ]
  },
  {
   "cell_type": "code",
   "execution_count": 409,
   "metadata": {},
   "outputs": [],
   "source": [
    "data['오전오후저녁'] = data['방송일시']"
   ]
  },
  {
   "cell_type": "code",
   "execution_count": 410,
   "metadata": {},
   "outputs": [
    {
     "output_type": "execute_result",
     "data": {
      "text/plain": "                 방송일시  노출(분)    마더코드    상품코드            상품명 상품군   판매단가  \\\n0 2019-01-01 06:00:00   20.0  100346  201072  테이트 남성 셀린니트3종  의류  39900   \n1 2019-01-01 06:00:00    NaN  100346  201079  테이트 여성 셀린니트3종  의류  39900   \n2 2019-01-01 06:20:00   20.0  100346  201072  테이트 남성 셀린니트3종  의류  39900   \n3 2019-01-01 06:20:00    NaN  100346  201079  테이트 여성 셀린니트3종  의류  39900   \n4 2019-01-01 06:40:00   20.0  100346  201072  테이트 남성 셀린니트3종  의류  39900   \n\n         취급액  휴일변수  요일변수   주말변수              오전오후저녁  \n0  2099000.0  True     1  False 2019-01-01 06:00:00  \n1  4371000.0  True     1  False 2019-01-01 06:00:00  \n2  3262000.0  True     1  False 2019-01-01 06:20:00  \n3  6955000.0  True     1  False 2019-01-01 06:20:00  \n4  6672000.0  True     1  False 2019-01-01 06:40:00  ",
      "text/html": "<div>\n<style scoped>\n    .dataframe tbody tr th:only-of-type {\n        vertical-align: middle;\n    }\n\n    .dataframe tbody tr th {\n        vertical-align: top;\n    }\n\n    .dataframe thead th {\n        text-align: right;\n    }\n</style>\n<table border=\"1\" class=\"dataframe\">\n  <thead>\n    <tr style=\"text-align: right;\">\n      <th></th>\n      <th>방송일시</th>\n      <th>노출(분)</th>\n      <th>마더코드</th>\n      <th>상품코드</th>\n      <th>상품명</th>\n      <th>상품군</th>\n      <th>판매단가</th>\n      <th>취급액</th>\n      <th>휴일변수</th>\n      <th>요일변수</th>\n      <th>주말변수</th>\n      <th>오전오후저녁</th>\n    </tr>\n  </thead>\n  <tbody>\n    <tr>\n      <th>0</th>\n      <td>2019-01-01 06:00:00</td>\n      <td>20.0</td>\n      <td>100346</td>\n      <td>201072</td>\n      <td>테이트 남성 셀린니트3종</td>\n      <td>의류</td>\n      <td>39900</td>\n      <td>2099000.0</td>\n      <td>True</td>\n      <td>1</td>\n      <td>False</td>\n      <td>2019-01-01 06:00:00</td>\n    </tr>\n    <tr>\n      <th>1</th>\n      <td>2019-01-01 06:00:00</td>\n      <td>NaN</td>\n      <td>100346</td>\n      <td>201079</td>\n      <td>테이트 여성 셀린니트3종</td>\n      <td>의류</td>\n      <td>39900</td>\n      <td>4371000.0</td>\n      <td>True</td>\n      <td>1</td>\n      <td>False</td>\n      <td>2019-01-01 06:00:00</td>\n    </tr>\n    <tr>\n      <th>2</th>\n      <td>2019-01-01 06:20:00</td>\n      <td>20.0</td>\n      <td>100346</td>\n      <td>201072</td>\n      <td>테이트 남성 셀린니트3종</td>\n      <td>의류</td>\n      <td>39900</td>\n      <td>3262000.0</td>\n      <td>True</td>\n      <td>1</td>\n      <td>False</td>\n      <td>2019-01-01 06:20:00</td>\n    </tr>\n    <tr>\n      <th>3</th>\n      <td>2019-01-01 06:20:00</td>\n      <td>NaN</td>\n      <td>100346</td>\n      <td>201079</td>\n      <td>테이트 여성 셀린니트3종</td>\n      <td>의류</td>\n      <td>39900</td>\n      <td>6955000.0</td>\n      <td>True</td>\n      <td>1</td>\n      <td>False</td>\n      <td>2019-01-01 06:20:00</td>\n    </tr>\n    <tr>\n      <th>4</th>\n      <td>2019-01-01 06:40:00</td>\n      <td>20.0</td>\n      <td>100346</td>\n      <td>201072</td>\n      <td>테이트 남성 셀린니트3종</td>\n      <td>의류</td>\n      <td>39900</td>\n      <td>6672000.0</td>\n      <td>True</td>\n      <td>1</td>\n      <td>False</td>\n      <td>2019-01-01 06:40:00</td>\n    </tr>\n  </tbody>\n</table>\n</div>"
     },
     "metadata": {},
     "execution_count": 410
    }
   ],
   "source": [
    "data.head()"
   ]
  },
  {
   "cell_type": "code",
   "execution_count": 419,
   "metadata": {},
   "outputs": [],
   "source": [
    "data['오전오후저녁'].loc[data['방송일시'].dt.hour.isin(['6','7','8','9','10','11','12'])] = 0\n",
    "data['오전오후저녁'].loc[data['방송일시'].dt.hour.isin(['13','14','15','16','17','18'])] = 1\n",
    "data['오전오후저녁'].loc[data['방송일시'].dt.hour.isin(['19','20','21','24','1','2'])] = 2"
   ]
  },
  {
   "cell_type": "code",
   "execution_count": 420,
   "metadata": {},
   "outputs": [
    {
     "output_type": "execute_result",
     "data": {
      "text/plain": "                 방송일시  노출(분)    마더코드    상품코드            상품명 상품군   판매단가  \\\n0 2019-01-01 06:00:00   20.0  100346  201072  테이트 남성 셀린니트3종  의류  39900   \n1 2019-01-01 06:00:00    NaN  100346  201079  테이트 여성 셀린니트3종  의류  39900   \n2 2019-01-01 06:20:00   20.0  100346  201072  테이트 남성 셀린니트3종  의류  39900   \n3 2019-01-01 06:20:00    NaN  100346  201079  테이트 여성 셀린니트3종  의류  39900   \n4 2019-01-01 06:40:00   20.0  100346  201072  테이트 남성 셀린니트3종  의류  39900   \n\n         취급액  휴일변수  요일변수   주말변수 오전오후저녁  \n0  2099000.0  True     1  False      0  \n1  4371000.0  True     1  False      0  \n2  3262000.0  True     1  False      0  \n3  6955000.0  True     1  False      0  \n4  6672000.0  True     1  False      0  ",
      "text/html": "<div>\n<style scoped>\n    .dataframe tbody tr th:only-of-type {\n        vertical-align: middle;\n    }\n\n    .dataframe tbody tr th {\n        vertical-align: top;\n    }\n\n    .dataframe thead th {\n        text-align: right;\n    }\n</style>\n<table border=\"1\" class=\"dataframe\">\n  <thead>\n    <tr style=\"text-align: right;\">\n      <th></th>\n      <th>방송일시</th>\n      <th>노출(분)</th>\n      <th>마더코드</th>\n      <th>상품코드</th>\n      <th>상품명</th>\n      <th>상품군</th>\n      <th>판매단가</th>\n      <th>취급액</th>\n      <th>휴일변수</th>\n      <th>요일변수</th>\n      <th>주말변수</th>\n      <th>오전오후저녁</th>\n    </tr>\n  </thead>\n  <tbody>\n    <tr>\n      <th>0</th>\n      <td>2019-01-01 06:00:00</td>\n      <td>20.0</td>\n      <td>100346</td>\n      <td>201072</td>\n      <td>테이트 남성 셀린니트3종</td>\n      <td>의류</td>\n      <td>39900</td>\n      <td>2099000.0</td>\n      <td>True</td>\n      <td>1</td>\n      <td>False</td>\n      <td>0</td>\n    </tr>\n    <tr>\n      <th>1</th>\n      <td>2019-01-01 06:00:00</td>\n      <td>NaN</td>\n      <td>100346</td>\n      <td>201079</td>\n      <td>테이트 여성 셀린니트3종</td>\n      <td>의류</td>\n      <td>39900</td>\n      <td>4371000.0</td>\n      <td>True</td>\n      <td>1</td>\n      <td>False</td>\n      <td>0</td>\n    </tr>\n    <tr>\n      <th>2</th>\n      <td>2019-01-01 06:20:00</td>\n      <td>20.0</td>\n      <td>100346</td>\n      <td>201072</td>\n      <td>테이트 남성 셀린니트3종</td>\n      <td>의류</td>\n      <td>39900</td>\n      <td>3262000.0</td>\n      <td>True</td>\n      <td>1</td>\n      <td>False</td>\n      <td>0</td>\n    </tr>\n    <tr>\n      <th>3</th>\n      <td>2019-01-01 06:20:00</td>\n      <td>NaN</td>\n      <td>100346</td>\n      <td>201079</td>\n      <td>테이트 여성 셀린니트3종</td>\n      <td>의류</td>\n      <td>39900</td>\n      <td>6955000.0</td>\n      <td>True</td>\n      <td>1</td>\n      <td>False</td>\n      <td>0</td>\n    </tr>\n    <tr>\n      <th>4</th>\n      <td>2019-01-01 06:40:00</td>\n      <td>20.0</td>\n      <td>100346</td>\n      <td>201072</td>\n      <td>테이트 남성 셀린니트3종</td>\n      <td>의류</td>\n      <td>39900</td>\n      <td>6672000.0</td>\n      <td>True</td>\n      <td>1</td>\n      <td>False</td>\n      <td>0</td>\n    </tr>\n  </tbody>\n</table>\n</div>"
     },
     "metadata": {},
     "execution_count": 420
    }
   ],
   "source": [
    "data.head()"
   ]
  },
  {
   "cell_type": "code",
   "execution_count": 406,
   "metadata": {},
   "outputs": [],
   "source": [
    "data['주말변수'] = data['요일변수'].isin([5,6]).values"
   ]
  },
  {
   "cell_type": "markdown",
   "metadata": {},
   "source": [
    "# 휴일변수"
   ]
  },
  {
   "cell_type": "code",
   "execution_count": 212,
   "metadata": {},
   "outputs": [
    {
     "output_type": "execute_result",
     "data": {
      "text/plain": "datetime.date(2019, 1, 1)"
     },
     "metadata": {},
     "execution_count": 212
    }
   ],
   "source": [
    "data['방송일시'].dt.date[0]"
   ]
  },
  {
   "cell_type": "code",
   "execution_count": 213,
   "metadata": {},
   "outputs": [
    {
     "output_type": "execute_result",
     "data": {
      "text/plain": "datetime.date(2019, 1, 1)"
     },
     "metadata": {},
     "execution_count": 213
    }
   ],
   "source": [
    "date_holiday_2019.date[0]"
   ]
  },
  {
   "cell_type": "code",
   "execution_count": 214,
   "metadata": {},
   "outputs": [
    {
     "output_type": "execute_result",
     "data": {
      "text/plain": "False    36482\nTrue      1827\nName: 방송일시, dtype: int64"
     },
     "metadata": {},
     "execution_count": 214
    }
   ],
   "source": [
    "(data['방송일시'].dt.date.isin(date_holiday_2019.date)).value_counts()"
   ]
  },
  {
   "cell_type": "code",
   "execution_count": 215,
   "metadata": {},
   "outputs": [],
   "source": [
    "data['휴일변수'] = (data['요일변수'].isin([5,6])) | (data['방송일시'].dt.date.isin(date_holiday_2019.date))"
   ]
  },
  {
   "cell_type": "code",
   "execution_count": 167,
   "metadata": {},
   "outputs": [],
   "source": [
    "date_holiday_2019 = pd.to_datetime(holiday_2019)"
   ]
  },
  {
   "cell_type": "code",
   "execution_count": 198,
   "metadata": {},
   "outputs": [
    {
     "output_type": "execute_result",
     "data": {
      "text/plain": "DatetimeIndex(['2019-01-01', '2019-02-04', '2019-02-05', '2019-02-06',\n               '2019-03-01', '2019-05-05', '2019-05-06', '2019-05-12',\n               '2019-06-06', '2019-08-15', '2019-09-12', '2019-09-13',\n               '2019-09-14', '2019-10-03', '2019-10-09', '2019-12-25'],\n              dtype='datetime64[ns]', freq=None)"
     },
     "metadata": {},
     "execution_count": 198
    }
   ],
   "source": [
    "date_holiday_2019"
   ]
  },
  {
   "cell_type": "code",
   "execution_count": 216,
   "metadata": {},
   "outputs": [
    {
     "output_type": "execute_result",
     "data": {
      "text/plain": "                 방송일시  노출(분)    마더코드    상품코드            상품명 상품군   판매단가  \\\n0 2019-01-01 06:00:00   20.0  100346  201072  테이트 남성 셀린니트3종  의류  39900   \n1 2019-01-01 06:00:00    NaN  100346  201079  테이트 여성 셀린니트3종  의류  39900   \n2 2019-01-01 06:20:00   20.0  100346  201072  테이트 남성 셀린니트3종  의류  39900   \n3 2019-01-01 06:20:00    NaN  100346  201079  테이트 여성 셀린니트3종  의류  39900   \n4 2019-01-01 06:40:00   20.0  100346  201072  테이트 남성 셀린니트3종  의류  39900   \n\n         취급액  요일변수   주말변수  계절(반기별)  휴일변수  \n0  2099000.0     1  False    False  True  \n1  4371000.0     1  False    False  True  \n2  3262000.0     1  False    False  True  \n3  6955000.0     1  False    False  True  \n4  6672000.0     1  False    False  True  ",
      "text/html": "<div>\n<style scoped>\n    .dataframe tbody tr th:only-of-type {\n        vertical-align: middle;\n    }\n\n    .dataframe tbody tr th {\n        vertical-align: top;\n    }\n\n    .dataframe thead th {\n        text-align: right;\n    }\n</style>\n<table border=\"1\" class=\"dataframe\">\n  <thead>\n    <tr style=\"text-align: right;\">\n      <th></th>\n      <th>방송일시</th>\n      <th>노출(분)</th>\n      <th>마더코드</th>\n      <th>상품코드</th>\n      <th>상품명</th>\n      <th>상품군</th>\n      <th>판매단가</th>\n      <th>취급액</th>\n      <th>요일변수</th>\n      <th>주말변수</th>\n      <th>계절(반기별)</th>\n      <th>휴일변수</th>\n    </tr>\n  </thead>\n  <tbody>\n    <tr>\n      <th>0</th>\n      <td>2019-01-01 06:00:00</td>\n      <td>20.0</td>\n      <td>100346</td>\n      <td>201072</td>\n      <td>테이트 남성 셀린니트3종</td>\n      <td>의류</td>\n      <td>39900</td>\n      <td>2099000.0</td>\n      <td>1</td>\n      <td>False</td>\n      <td>False</td>\n      <td>True</td>\n    </tr>\n    <tr>\n      <th>1</th>\n      <td>2019-01-01 06:00:00</td>\n      <td>NaN</td>\n      <td>100346</td>\n      <td>201079</td>\n      <td>테이트 여성 셀린니트3종</td>\n      <td>의류</td>\n      <td>39900</td>\n      <td>4371000.0</td>\n      <td>1</td>\n      <td>False</td>\n      <td>False</td>\n      <td>True</td>\n    </tr>\n    <tr>\n      <th>2</th>\n      <td>2019-01-01 06:20:00</td>\n      <td>20.0</td>\n      <td>100346</td>\n      <td>201072</td>\n      <td>테이트 남성 셀린니트3종</td>\n      <td>의류</td>\n      <td>39900</td>\n      <td>3262000.0</td>\n      <td>1</td>\n      <td>False</td>\n      <td>False</td>\n      <td>True</td>\n    </tr>\n    <tr>\n      <th>3</th>\n      <td>2019-01-01 06:20:00</td>\n      <td>NaN</td>\n      <td>100346</td>\n      <td>201079</td>\n      <td>테이트 여성 셀린니트3종</td>\n      <td>의류</td>\n      <td>39900</td>\n      <td>6955000.0</td>\n      <td>1</td>\n      <td>False</td>\n      <td>False</td>\n      <td>True</td>\n    </tr>\n    <tr>\n      <th>4</th>\n      <td>2019-01-01 06:40:00</td>\n      <td>20.0</td>\n      <td>100346</td>\n      <td>201072</td>\n      <td>테이트 남성 셀린니트3종</td>\n      <td>의류</td>\n      <td>39900</td>\n      <td>6672000.0</td>\n      <td>1</td>\n      <td>False</td>\n      <td>False</td>\n      <td>True</td>\n    </tr>\n  </tbody>\n</table>\n</div>"
     },
     "metadata": {},
     "execution_count": 216
    }
   ],
   "source": [
    "data[data['휴일변수']].head()"
   ]
  },
  {
   "cell_type": "code",
   "execution_count": 174,
   "metadata": {},
   "outputs": [
    {
     "output_type": "execute_result",
     "data": {
      "text/plain": "16"
     },
     "metadata": {},
     "execution_count": 174
    }
   ],
   "source": [
    "len(date_holiday_2019)"
   ]
  },
  {
   "cell_type": "code",
   "execution_count": 175,
   "metadata": {},
   "outputs": [
    {
     "output_type": "execute_result",
     "data": {
      "text/plain": "0    False\n1    False\n2    False\n3    False\n4    False\nName: 방송일시, dtype: bool"
     },
     "metadata": {},
     "execution_count": 175
    }
   ],
   "source": [
    "data['방송일시'].isin(date_holiday_2019)"
   ]
  },
  {
   "cell_type": "markdown",
   "metadata": {},
   "source": [
    "# 계절(분기별)"
   ]
  },
  {
   "cell_type": "code",
   "execution_count": 229,
   "metadata": {},
   "outputs": [],
   "source": [
    "data['계절(분기별)'] = data['방송일시'].dt.quarter -1"
   ]
  },
  {
   "cell_type": "code",
   "execution_count": 230,
   "metadata": {},
   "outputs": [
    {
     "output_type": "execute_result",
     "data": {
      "text/plain": "0    0\n1    0\n2    0\n3    0\n4    0\nName: 계절(분기별), dtype: int64"
     },
     "metadata": {},
     "execution_count": 230
    }
   ],
   "source": [
    "data['계절(분기별)'].head()"
   ]
  },
  {
   "cell_type": "markdown",
   "metadata": {},
   "source": [
    "# 오전, 오후, 저녁 변수"
   ]
  },
  {
   "cell_type": "code",
   "execution_count": 280,
   "metadata": {},
   "outputs": [],
   "source": [
    "data['오전오후저녁'] = data['방송일시'].copy()"
   ]
  },
  {
   "cell_type": "code",
   "execution_count": 282,
   "metadata": {},
   "outputs": [
    {
     "output_type": "execute_result",
     "data": {
      "text/plain": "array([0, Timestamp('2019-01-01 12:00:00'),\n       Timestamp('2019-01-01 12:20:00'), ...,\n       Timestamp('2020-01-01 01:00:00'), Timestamp('2020-01-01 01:20:00'),\n       Timestamp('2020-01-01 01:40:00')], dtype=object)"
     },
     "metadata": {},
     "execution_count": 282
    }
   ],
   "source": [
    "data['오전오후저녁'].unique()"
   ]
  },
  {
   "cell_type": "code",
   "execution_count": 277,
   "metadata": {},
   "outputs": [],
   "source": [
    "del data['오전오후저녁']"
   ]
  },
  {
   "cell_type": "code",
   "execution_count": 407,
   "metadata": {},
   "outputs": [
    {
     "output_type": "execute_result",
     "data": {
      "text/plain": "count     38309\nunique        2\ntop       False\nfreq      27025\nName: 주말변수, dtype: object"
     },
     "metadata": {},
     "execution_count": 407
    }
   ],
   "source": [
    "data['주말변수'].describe()"
   ]
  },
  {
   "cell_type": "code",
   "execution_count": 251,
   "metadata": {},
   "outputs": [
    {
     "output_type": "execute_result",
     "data": {
      "text/plain": "0   2019-01-01 06:00:00\n1   2019-01-01 06:00:00\n2   2019-01-01 06:20:00\n3   2019-01-01 06:20:00\n4   2019-01-01 06:40:00\nName: 오전오후저녁, dtype: datetime64[ns]"
     },
     "metadata": {},
     "execution_count": 251
    }
   ],
   "source": [
    "data['오전오후저녁'].head()"
   ]
  },
  {
   "cell_type": "markdown",
   "metadata": {},
   "source": [
    "# 계절(반기별 변수)"
   ]
  },
  {
   "cell_type": "code",
   "execution_count": 147,
   "metadata": {},
   "outputs": [
    {
     "output_type": "execute_result",
     "data": {
      "text/plain": "0    False\n1    False\n2    False\n3    False\n4    False\nName: 방송일시, dtype: bool"
     },
     "metadata": {},
     "execution_count": 147
    }
   ],
   "source": [
    "s.head()"
   ]
  },
  {
   "cell_type": "code",
   "execution_count": 178,
   "metadata": {},
   "outputs": [],
   "source": [
    "data['계절(반기별)'] = data['방송일시'].dt.month.isin([7,8,9,10,11,12])"
   ]
  },
  {
   "cell_type": "markdown",
   "metadata": {},
   "source": [
    "# 계절(분기별)"
   ]
  },
  {
   "cell_type": "code",
   "execution_count": null,
   "metadata": {},
   "outputs": [],
   "source": []
  },
  {
   "cell_type": "code",
   "execution_count": 184,
   "metadata": {},
   "outputs": [
    {
     "output_type": "execute_result",
     "data": {
      "text/plain": "False    19191\nTrue     19118\nName: 계절(반기별), dtype: int64"
     },
     "metadata": {},
     "execution_count": 184
    }
   ],
   "source": [
    "data['계절(반기별)'].value_counts()"
   ]
  }
 ]
}