{
 "metadata": {
  "language_info": {
   "codemirror_mode": {
    "name": "ipython",
    "version": 3
   },
   "file_extension": ".py",
   "mimetype": "text/x-python",
   "name": "python",
   "nbconvert_exporter": "python",
   "pygments_lexer": "ipython3",
   "version": "3.7.3-final"
  },
  "orig_nbformat": 2,
  "kernelspec": {
   "name": "python37364bitbaseconda6e11b9c8d5c54cd9a3095ea967af262b",
   "display_name": "Python 3.7.3 64-bit ('base': conda)"
  }
 },
 "nbformat": 4,
 "nbformat_minor": 2,
 "cells": [
  {
   "cell_type": "markdown",
   "metadata": {},
   "source": [
    "# 국경일, 공휴일을 캐치해서 0,1로 분류하는 함수"
   ]
  },
  {
   "cell_type": "code",
   "execution_count": 287,
   "metadata": {},
   "outputs": [],
   "source": [
    "import pandas as pd\n",
    "import datetime"
   ]
  },
  {
   "cell_type": "code",
   "execution_count": null,
   "metadata": {},
   "outputs": [],
   "source": [
    "dt = datetime.datetime.now()\n",
    "dt"
   ]
  },
  {
   "cell_type": "code",
   "execution_count": 398,
   "metadata": {},
   "outputs": [],
   "source": [
    "data = pd.read_excel('../2020데이터/01_제공데이터/performance_data.xlsx',header = 1)"
   ]
  },
  {
   "cell_type": "code",
   "execution_count": 399,
   "metadata": {
    "tags": []
   },
   "outputs": [
    {
     "output_type": "stream",
     "name": "stdout",
     "text": "<class 'pandas.core.frame.DataFrame'>\nRangeIndex: 38309 entries, 0 to 38308\nData columns (total 8 columns):\n방송일시     38309 non-null datetime64[ns]\n노출(분)    21525 non-null float64\n마더코드     38309 non-null int64\n상품코드     38309 non-null int64\n상품명      38309 non-null object\n상품군      38309 non-null object\n판매단가     38309 non-null int64\n취급액      37372 non-null float64\ndtypes: datetime64[ns](1), float64(2), int64(3), object(2)\nmemory usage: 2.3+ MB\n"
    }
   ],
   "source": [
    "data.info()"
   ]
  },
  {
   "cell_type": "code",
   "execution_count": 400,
   "metadata": {},
   "outputs": [
    {
     "output_type": "execute_result",
     "data": {
      "text/plain": "0    1\n1    1\n2    1\n3    1\n4    1\nName: 방송일시, dtype: int64"
     },
     "metadata": {},
     "execution_count": 400
    }
   ],
   "source": [
    "data['방송일시'].dt.day.head()"
   ]
  },
  {
   "cell_type": "markdown",
   "metadata": {},
   "source": [
    "# 공공데이터 open api"
   ]
  },
  {
   "cell_type": "code",
   "execution_count": 295,
   "metadata": {},
   "outputs": [],
   "source": [
    "# 파라미터\n",
    "import requests\n",
    "from bs4 import BeautifulSoup\n",
    "\n",
    "year = '2019'\n",
    "mykey = 'H2U3MYpA5cdO9eidjraO87W8mSVkIo77SNPtdNmNm31T33EFszX9mnbji8AFKCZka6jDsAHG%2BCga0yEkZCim%2Fw%3D%3D'\n",
    "\n",
    "holiday_2019 = []\n",
    "\n",
    "for month in range(1,13):\n",
    "    # int형으로 받은 숫자 중 10이하 한자리 수면 0을 붙여서 string으로 변환하고,\n",
    "    # 아니면 그대로 string형으로 변환\n",
    "    if month < 10:\n",
    "        month = '0' + str(month)\n",
    "    else:\n",
    "        month = str(month)\n",
    "\n",
    "    url = ' http://apis.data.go.kr/B090041/openapi/service/SpcdeInfoService/getRestDeInfo?solYear=%s&solMonth=%s&ServiceKey=%s' % (year, month, mykey)\n",
    "    \n",
    "    get_data = requests.get(url)\n",
    "    soup = BeautifulSoup(get_data.content, 'html.parser')\n",
    "    table = soup.find_all('locdate')\n",
    "    for i in table:\n",
    "        holiday_2019.append(i.text)"
   ]
  },
  {
   "cell_type": "code",
   "execution_count": 298,
   "metadata": {},
   "outputs": [
    {
     "output_type": "execute_result",
     "data": {
      "text/plain": "['20190101',\n '20190204',\n '20190205',\n '20190206',\n '20190301',\n '20190505',\n '20190506',\n '20190512',\n '20190606',\n '20190815',\n '20190912',\n '20190913',\n '20190914',\n '20191003',\n '20191009',\n '20191225']"
     },
     "metadata": {},
     "execution_count": 298
    }
   ],
   "source": [
    "holiday_2019"
   ]
  },
  {
   "cell_type": "markdown",
   "metadata": {},
   "source": [
    "# 휴일변수"
   ]
  },
  {
   "cell_type": "code",
   "execution_count": 401,
   "metadata": {},
   "outputs": [],
   "source": [
    "holiday_2019 = pd.to_datetime(holiday_2019)"
   ]
  },
  {
   "cell_type": "code",
   "execution_count": 402,
   "metadata": {},
   "outputs": [
    {
     "output_type": "execute_result",
     "data": {
      "text/plain": "0    True\n1    True\n2    True\n3    True\n4    True\nName: 방송일시, dtype: bool"
     },
     "metadata": {},
     "execution_count": 402
    }
   ],
   "source": [
    "# (data['방송일시'].dt.date.isin(pd.to_datetime(holiday_2019)))\n",
    "data['방송일시'].dt.date.isin(holiday_2019.date).head()"
   ]
  },
  {
   "cell_type": "code",
   "execution_count": 403,
   "metadata": {},
   "outputs": [],
   "source": [
    "data['휴일변수'] = data['방송일시'].dt.weekday.isin([5,6]).values | (data['방송일시'].dt.date.isin(holiday_2019.date))"
   ]
  },
  {
   "cell_type": "markdown",
   "metadata": {},
   "source": [
    "# 요일변수"
   ]
  },
  {
   "cell_type": "markdown",
   "metadata": {},
   "source": [
    "# 요일변수"
   ]
  },
  {
   "cell_type": "code",
   "execution_count": 404,
   "metadata": {},
   "outputs": [],
   "source": [
    "data['요일변수'] = data['방송일시'].dt.weekday"
   ]
  },
  {
   "cell_type": "code",
   "execution_count": 405,
   "metadata": {},
   "outputs": [
    {
     "output_type": "execute_result",
     "data": {
      "text/plain": "array([1, 2, 3, 4, 5, 6, 0], dtype=int64)"
     },
     "metadata": {},
     "execution_count": 405
    }
   ],
   "source": [
    "data['요일변수'].unique()"
   ]
  },
  {
   "cell_type": "markdown",
   "metadata": {},
   "source": [
    "# 주말 변수"
   ]
  },
  {
   "cell_type": "markdown",
   "metadata": {},
   "source": [
    "# 주말변수 생성(주말:토(5), 일(6))"
   ]
  },
  {
   "cell_type": "code",
   "execution_count": 408,
   "metadata": {},
   "outputs": [
    {
     "output_type": "execute_result",
     "data": {
      "text/plain": "                 방송일시  노출(분)    마더코드    상품코드            상품명 상품군   판매단가  \\\n0 2019-01-01 06:00:00   20.0  100346  201072  테이트 남성 셀린니트3종  의류  39900   \n1 2019-01-01 06:00:00    NaN  100346  201079  테이트 여성 셀린니트3종  의류  39900   \n2 2019-01-01 06:20:00   20.0  100346  201072  테이트 남성 셀린니트3종  의류  39900   \n3 2019-01-01 06:20:00    NaN  100346  201079  테이트 여성 셀린니트3종  의류  39900   \n4 2019-01-01 06:40:00   20.0  100346  201072  테이트 남성 셀린니트3종  의류  39900   \n\n         취급액  휴일변수  요일변수   주말변수  \n0  2099000.0  True     1  False  \n1  4371000.0  True     1  False  \n2  3262000.0  True     1  False  \n3  6955000.0  True     1  False  \n4  6672000.0  True     1  False  ",
      "text/html": "<div>\n<style scoped>\n    .dataframe tbody tr th:only-of-type {\n        vertical-align: middle;\n    }\n\n    .dataframe tbody tr th {\n        vertical-align: top;\n    }\n\n    .dataframe thead th {\n        text-align: right;\n    }\n</style>\n<table border=\"1\" class=\"dataframe\">\n  <thead>\n    <tr style=\"text-align: right;\">\n      <th></th>\n      <th>방송일시</th>\n      <th>노출(분)</th>\n      <th>마더코드</th>\n      <th>상품코드</th>\n      <th>상품명</th>\n      <th>상품군</th>\n      <th>판매단가</th>\n      <th>취급액</th>\n      <th>휴일변수</th>\n      <th>요일변수</th>\n      <th>주말변수</th>\n    </tr>\n  </thead>\n  <tbody>\n    <tr>\n      <th>0</th>\n      <td>2019-01-01 06:00:00</td>\n      <td>20.0</td>\n      <td>100346</td>\n      <td>201072</td>\n      <td>테이트 남성 셀린니트3종</td>\n      <td>의류</td>\n      <td>39900</td>\n      <td>2099000.0</td>\n      <td>True</td>\n      <td>1</td>\n      <td>False</td>\n    </tr>\n    <tr>\n      <th>1</th>\n      <td>2019-01-01 06:00:00</td>\n      <td>NaN</td>\n      <td>100346</td>\n      <td>201079</td>\n      <td>테이트 여성 셀린니트3종</td>\n      <td>의류</td>\n      <td>39900</td>\n      <td>4371000.0</td>\n      <td>True</td>\n      <td>1</td>\n      <td>False</td>\n    </tr>\n    <tr>\n      <th>2</th>\n      <td>2019-01-01 06:20:00</td>\n      <td>20.0</td>\n      <td>100346</td>\n      <td>201072</td>\n      <td>테이트 남성 셀린니트3종</td>\n      <td>의류</td>\n      <td>39900</td>\n      <td>3262000.0</td>\n      <td>True</td>\n      <td>1</td>\n      <td>False</td>\n    </tr>\n    <tr>\n      <th>3</th>\n      <td>2019-01-01 06:20:00</td>\n      <td>NaN</td>\n      <td>100346</td>\n      <td>201079</td>\n      <td>테이트 여성 셀린니트3종</td>\n      <td>의류</td>\n      <td>39900</td>\n      <td>6955000.0</td>\n      <td>True</td>\n      <td>1</td>\n      <td>False</td>\n    </tr>\n    <tr>\n      <th>4</th>\n      <td>2019-01-01 06:40:00</td>\n      <td>20.0</td>\n      <td>100346</td>\n      <td>201072</td>\n      <td>테이트 남성 셀린니트3종</td>\n      <td>의류</td>\n      <td>39900</td>\n      <td>6672000.0</td>\n      <td>True</td>\n      <td>1</td>\n      <td>False</td>\n    </tr>\n  </tbody>\n</table>\n</div>"
     },
     "metadata": {},
     "execution_count": 408
    }
   ],
   "source": [
    "data.head()"
   ]
  },
  {
   "cell_type": "markdown",
   "metadata": {},
   "source": [
    "# 오전오후저녁 변수"
   ]
  },
  {
   "cell_type": "code",
   "execution_count": 409,
   "metadata": {},
   "outputs": [],
   "source": [
    "data['오전오후저녁'] = data['방송일시']"
   ]
  },
  {
   "cell_type": "code",
   "execution_count": 410,
   "metadata": {},
   "outputs": [
    {
     "output_type": "execute_result",
     "data": {
      "text/plain": "                 방송일시  노출(분)    마더코드    상품코드            상품명 상품군   판매단가  \\\n0 2019-01-01 06:00:00   20.0  100346  201072  테이트 남성 셀린니트3종  의류  39900   \n1 2019-01-01 06:00:00    NaN  100346  201079  테이트 여성 셀린니트3종  의류  39900   \n2 2019-01-01 06:20:00   20.0  100346  201072  테이트 남성 셀린니트3종  의류  39900   \n3 2019-01-01 06:20:00    NaN  100346  201079  테이트 여성 셀린니트3종  의류  39900   \n4 2019-01-01 06:40:00   20.0  100346  201072  테이트 남성 셀린니트3종  의류  39900   \n\n         취급액  휴일변수  요일변수   주말변수              오전오후저녁  \n0  2099000.0  True     1  False 2019-01-01 06:00:00  \n1  4371000.0  True     1  False 2019-01-01 06:00:00  \n2  3262000.0  True     1  False 2019-01-01 06:20:00  \n3  6955000.0  True     1  False 2019-01-01 06:20:00  \n4  6672000.0  True     1  False 2019-01-01 06:40:00  ",
      "text/html": "<div>\n<style scoped>\n    .dataframe tbody tr th:only-of-type {\n        vertical-align: middle;\n    }\n\n    .dataframe tbody tr th {\n        vertical-align: top;\n    }\n\n    .dataframe thead th {\n        text-align: right;\n    }\n</style>\n<table border=\"1\" class=\"dataframe\">\n  <thead>\n    <tr style=\"text-align: right;\">\n      <th></th>\n      <th>방송일시</th>\n      <th>노출(분)</th>\n      <th>마더코드</th>\n      <th>상품코드</th>\n      <th>상품명</th>\n      <th>상품군</th>\n      <th>판매단가</th>\n      <th>취급액</th>\n      <th>휴일변수</th>\n      <th>요일변수</th>\n      <th>주말변수</th>\n      <th>오전오후저녁</th>\n    </tr>\n  </thead>\n  <tbody>\n    <tr>\n      <th>0</th>\n      <td>2019-01-01 06:00:00</td>\n      <td>20.0</td>\n      <td>100346</td>\n      <td>201072</td>\n      <td>테이트 남성 셀린니트3종</td>\n      <td>의류</td>\n      <td>39900</td>\n      <td>2099000.0</td>\n      <td>True</td>\n      <td>1</td>\n      <td>False</td>\n      <td>2019-01-01 06:00:00</td>\n    </tr>\n    <tr>\n      <th>1</th>\n      <td>2019-01-01 06:00:00</td>\n      <td>NaN</td>\n      <td>100346</td>\n      <td>201079</td>\n      <td>테이트 여성 셀린니트3종</td>\n      <td>의류</td>\n      <td>39900</td>\n      <td>4371000.0</td>\n      <td>True</td>\n      <td>1</td>\n      <td>False</td>\n      <td>2019-01-01 06:00:00</td>\n    </tr>\n    <tr>\n      <th>2</th>\n      <td>2019-01-01 06:20:00</td>\n      <td>20.0</td>\n      <td>100346</td>\n      <td>201072</td>\n      <td>테이트 남성 셀린니트3종</td>\n      <td>의류</td>\n      <td>39900</td>\n      <td>3262000.0</td>\n      <td>True</td>\n      <td>1</td>\n      <td>False</td>\n      <td>2019-01-01 06:20:00</td>\n    </tr>\n    <tr>\n      <th>3</th>\n      <td>2019-01-01 06:20:00</td>\n      <td>NaN</td>\n      <td>100346</td>\n      <td>201079</td>\n      <td>테이트 여성 셀린니트3종</td>\n      <td>의류</td>\n      <td>39900</td>\n      <td>6955000.0</td>\n      <td>True</td>\n      <td>1</td>\n      <td>False</td>\n      <td>2019-01-01 06:20:00</td>\n    </tr>\n    <tr>\n      <th>4</th>\n      <td>2019-01-01 06:40:00</td>\n      <td>20.0</td>\n      <td>100346</td>\n      <td>201072</td>\n      <td>테이트 남성 셀린니트3종</td>\n      <td>의류</td>\n      <td>39900</td>\n      <td>6672000.0</td>\n      <td>True</td>\n      <td>1</td>\n      <td>False</td>\n      <td>2019-01-01 06:40:00</td>\n    </tr>\n  </tbody>\n</table>\n</div>"
     },
     "metadata": {},
     "execution_count": 410
    }
   ],
   "source": [
    "data.head()"
   ]
  },
  {
   "cell_type": "code",
   "execution_count": 429,
   "metadata": {},
   "outputs": [],
   "source": [
    "data['오전오후저녁'].loc[data['방송일시'].dt.hour.isin(['6','7','8','9','10','11','12'])] = 0\n",
    "data['오전오후저녁'].loc[data['방송일시'].dt.hour.isin(['13','14','15','16','17','18','19'])] = 1\n",
    "data['오전오후저녁'].loc[data['방송일시'].dt.hour.isin(['20','21','22','23','0','1','2'])] = 2"
   ]
  },
  {
   "cell_type": "code",
   "execution_count": 430,
   "metadata": {},
   "outputs": [
    {
     "output_type": "execute_result",
     "data": {
      "text/plain": "array([0, 1, 2], dtype=int64)"
     },
     "metadata": {},
     "execution_count": 430
    }
   ],
   "source": [
    "data['오전오후저녁'].unique()"
   ]
  },
  {
   "cell_type": "code",
   "execution_count": 406,
   "metadata": {},
   "outputs": [],
   "source": [
    "data['주말변수'] = data['요일변수'].isin([5,6]).values"
   ]
  },
  {
   "cell_type": "markdown",
   "metadata": {},
   "source": [
    "# 월급일"
   ]
  },
  {
   "cell_type": "code",
   "execution_count": 439,
   "metadata": {},
   "outputs": [
    {
     "output_type": "execute_result",
     "data": {
      "text/plain": "0        False\n1        False\n2        False\n3        False\n4        False\n5        False\n6        False\n7        False\n8        False\n9        False\n10       False\n11       False\n12       False\n13       False\n14       False\n15       False\n16       False\n17       False\n18       False\n19       False\n20       False\n21       False\n22       False\n23       False\n24       False\n25       False\n26       False\n27       False\n28       False\n29       False\n         ...  \n38279    False\n38280    False\n38281    False\n38282    False\n38283    False\n38284    False\n38285    False\n38286    False\n38287    False\n38288    False\n38289    False\n38290    False\n38291    False\n38292    False\n38293    False\n38294    False\n38295    False\n38296    False\n38297    False\n38298    False\n38299    False\n38300    False\n38301    False\n38302    False\n38303    False\n38304    False\n38305    False\n38306    False\n38307    False\n38308    False\nName: 방송일시, Length: 38309, dtype: bool"
     },
     "metadata": {},
     "execution_count": 439
    }
   ],
   "source": [
    "data['방송일시'].dt.day.isin(['10,17,20,25'])"
   ]
  },
  {
   "cell_type": "markdown",
   "metadata": {},
   "source": [
    "# 연속 휴일 변수"
   ]
  },
  {
   "cell_type": "code",
   "execution_count": 502,
   "metadata": {},
   "outputs": [],
   "source": [
    "df = pd.DataFrame(data.loc[data['방송일시'].dt.date.drop_duplicates().index][['휴일변수','방송일시']])"
   ]
  },
  {
   "cell_type": "code",
   "execution_count": 498,
   "metadata": {},
   "outputs": [],
   "source": [
    "df.reset_index(drop=True,inplace=True)"
   ]
  },
  {
   "cell_type": "code",
   "execution_count": 508,
   "metadata": {},
   "outputs": [],
   "source": [
    "  df['count'] = df.groupby((df['휴일변수'] != df['휴일변수'].shift(1)).cumsum()).cumcount()+1"
   ]
  },
  {
   "cell_type": "code",
   "execution_count": 510,
   "metadata": {},
   "outputs": [
    {
     "output_type": "execute_result",
     "data": {
      "text/plain": "       휴일변수       방송일시  count\n3186   True 2019-02-04      3\n3261   True 2019-02-05      4\n3375   True 2019-02-06      5\n5922   True 2019-03-03      3\n13101  True 2019-05-06      3\n27134  True 2019-09-14      3\n27249  True 2019-09-15      4",
      "text/html": "<div>\n<style scoped>\n    .dataframe tbody tr th:only-of-type {\n        vertical-align: middle;\n    }\n\n    .dataframe tbody tr th {\n        vertical-align: top;\n    }\n\n    .dataframe thead th {\n        text-align: right;\n    }\n</style>\n<table border=\"1\" class=\"dataframe\">\n  <thead>\n    <tr style=\"text-align: right;\">\n      <th></th>\n      <th>휴일변수</th>\n      <th>방송일시</th>\n      <th>count</th>\n    </tr>\n  </thead>\n  <tbody>\n    <tr>\n      <th>3186</th>\n      <td>True</td>\n      <td>2019-02-04</td>\n      <td>3</td>\n    </tr>\n    <tr>\n      <th>3261</th>\n      <td>True</td>\n      <td>2019-02-05</td>\n      <td>4</td>\n    </tr>\n    <tr>\n      <th>3375</th>\n      <td>True</td>\n      <td>2019-02-06</td>\n      <td>5</td>\n    </tr>\n    <tr>\n      <th>5922</th>\n      <td>True</td>\n      <td>2019-03-03</td>\n      <td>3</td>\n    </tr>\n    <tr>\n      <th>13101</th>\n      <td>True</td>\n      <td>2019-05-06</td>\n      <td>3</td>\n    </tr>\n    <tr>\n      <th>27134</th>\n      <td>True</td>\n      <td>2019-09-14</td>\n      <td>3</td>\n    </tr>\n    <tr>\n      <th>27249</th>\n      <td>True</td>\n      <td>2019-09-15</td>\n      <td>4</td>\n    </tr>\n  </tbody>\n</table>\n</div>"
     },
     "metadata": {},
     "execution_count": 510
    }
   ],
   "source": [
    "df.loc[(df['count'] >= 3) & (df['휴일변수'] == True)]"
   ]
  },
  {
   "cell_type": "code",
   "execution_count": 529,
   "metadata": {},
   "outputs": [],
   "source": [
    "date = df.loc[(df['count'] >= 3) & (df['휴일변수'] == True)]['방송일시'].dt.date.values"
   ]
  },
  {
   "cell_type": "code",
   "execution_count": 557,
   "metadata": {},
   "outputs": [
    {
     "output_type": "execute_result",
     "data": {
      "text/plain": "0        2019-01-01\n1        2019-01-01\n2        2019-01-01\n3        2019-01-01\n4        2019-01-01\n5        2019-01-01\n6        2019-01-01\n7        2019-01-01\n8        2019-01-01\n9        2019-01-01\n10       2019-01-01\n11       2019-01-01\n12       2019-01-01\n13       2019-01-01\n14       2019-01-01\n15       2019-01-01\n16       2019-01-01\n17       2019-01-01\n18       2019-01-01\n19       2019-01-01\n20       2019-01-01\n21       2019-01-01\n22       2019-01-01\n23       2019-01-01\n24       2019-01-01\n25       2019-01-01\n26       2019-01-01\n27       2019-01-01\n28       2019-01-01\n29       2019-01-01\n            ...    \n38279    2019-12-31\n38280    2019-12-31\n38281    2019-12-31\n38282    2019-12-31\n38283    2019-12-31\n38284    2019-12-31\n38285    2019-12-31\n38286    2019-12-31\n38287    2019-12-31\n38288    2019-12-31\n38289    2019-12-31\n38290    2019-12-31\n38291    2019-12-31\n38292    2019-12-31\n38293    2019-12-31\n38294    2019-12-31\n38295    2019-12-31\n38296    2019-12-31\n38297    2019-12-31\n38298    2019-12-31\n38299    2019-12-31\n38300    2020-01-01\n38301    2020-01-01\n38302    2020-01-01\n38303    2020-01-01\n38304    2020-01-01\n38305    2020-01-01\n38306    2020-01-01\n38307    2020-01-01\n38308    2020-01-01\nName: 방송일시, Length: 38309, dtype: object"
     },
     "metadata": {},
     "execution_count": 557
    }
   ],
   "source": [
    "data['방송일시'].dt.date"
   ]
  },
  {
   "cell_type": "code",
   "execution_count": 569,
   "metadata": {},
   "outputs": [],
   "source": [
    "adddate = pd.to_datetime(['2019-02-02','2019-02-03','2019-03-01','2019-03-02','2019-05-04','2019-05-05','2019-09-12','2019-09-13']).date\n"
   ]
  },
  {
   "cell_type": "code",
   "execution_count": 576,
   "metadata": {},
   "outputs": [],
   "source": [
    "data['연속휴일변수'] = data['방송일시']"
   ]
  },
  {
   "cell_type": "code",
   "execution_count": 586,
   "metadata": {},
   "outputs": [],
   "source": [
    "data['연속휴일변수'].loc[(data['방송일시'].dt.date.isin(date)) | (data['방송일시'].dt.date.isin(adddate))] = True\n",
    "data['연속휴일변수'].loc[~(data['방송일시'].dt.date.isin(date)) | (data['방송일시'].dt.date.isin(adddate))] = False"
   ]
  },
  {
   "cell_type": "code",
   "execution_count": 587,
   "metadata": {},
   "outputs": [
    {
     "output_type": "execute_result",
     "data": {
      "text/plain": "array([False,  True])"
     },
     "metadata": {},
     "execution_count": 587
    }
   ],
   "source": [
    "data['연속휴일변수'].unique()"
   ]
  },
  {
   "cell_type": "code",
   "execution_count": 449,
   "metadata": {},
   "outputs": [
    {
     "output_type": "execute_result",
     "data": {
      "text/plain": "0     1\n58    2\nName: 방송일시, dtype: int64"
     },
     "metadata": {},
     "execution_count": 449
    }
   ],
   "source": [
    "data.loc[~data[''].duplicated()]['방송일시'].dt.weekday"
   ]
  },
  {
   "cell_type": "markdown",
   "metadata": {},
   "source": [
    "# 휴일변수"
   ]
  },
  {
   "cell_type": "code",
   "execution_count": 212,
   "metadata": {},
   "outputs": [
    {
     "output_type": "execute_result",
     "data": {
      "text/plain": "datetime.date(2019, 1, 1)"
     },
     "metadata": {},
     "execution_count": 212
    }
   ],
   "source": [
    "data['방송일시'].dt.date[0]"
   ]
  },
  {
   "cell_type": "code",
   "execution_count": 213,
   "metadata": {},
   "outputs": [
    {
     "output_type": "execute_result",
     "data": {
      "text/plain": "datetime.date(2019, 1, 1)"
     },
     "metadata": {},
     "execution_count": 213
    }
   ],
   "source": [
    "date_holiday_2019.date[0]"
   ]
  },
  {
   "cell_type": "code",
   "execution_count": 214,
   "metadata": {},
   "outputs": [
    {
     "output_type": "execute_result",
     "data": {
      "text/plain": "False    36482\nTrue      1827\nName: 방송일시, dtype: int64"
     },
     "metadata": {},
     "execution_count": 214
    }
   ],
   "source": [
    "(data['방송일시'].dt.date.isin(date_holiday_2019.date)).value_counts()"
   ]
  },
  {
   "cell_type": "code",
   "execution_count": 215,
   "metadata": {},
   "outputs": [],
   "source": [
    "data['휴일변수'] = (data['요일변수'].isin([5,6])) | (data['방송일시'].dt.date.isin(date_holiday_2019.date))"
   ]
  },
  {
   "cell_type": "code",
   "execution_count": 167,
   "metadata": {},
   "outputs": [],
   "source": [
    "date_holiday_2019 = pd.to_datetime(holiday_2019)"
   ]
  },
  {
   "cell_type": "code",
   "execution_count": 198,
   "metadata": {},
   "outputs": [
    {
     "output_type": "execute_result",
     "data": {
      "text/plain": "DatetimeIndex(['2019-01-01', '2019-02-04', '2019-02-05', '2019-02-06',\n               '2019-03-01', '2019-05-05', '2019-05-06', '2019-05-12',\n               '2019-06-06', '2019-08-15', '2019-09-12', '2019-09-13',\n               '2019-09-14', '2019-10-03', '2019-10-09', '2019-12-25'],\n              dtype='datetime64[ns]', freq=None)"
     },
     "metadata": {},
     "execution_count": 198
    }
   ],
   "source": [
    "date_holiday_2019"
   ]
  },
  {
   "cell_type": "code",
   "execution_count": 216,
   "metadata": {},
   "outputs": [
    {
     "output_type": "execute_result",
     "data": {
      "text/plain": "                 방송일시  노출(분)    마더코드    상품코드            상품명 상품군   판매단가  \\\n0 2019-01-01 06:00:00   20.0  100346  201072  테이트 남성 셀린니트3종  의류  39900   \n1 2019-01-01 06:00:00    NaN  100346  201079  테이트 여성 셀린니트3종  의류  39900   \n2 2019-01-01 06:20:00   20.0  100346  201072  테이트 남성 셀린니트3종  의류  39900   \n3 2019-01-01 06:20:00    NaN  100346  201079  테이트 여성 셀린니트3종  의류  39900   \n4 2019-01-01 06:40:00   20.0  100346  201072  테이트 남성 셀린니트3종  의류  39900   \n\n         취급액  요일변수   주말변수  계절(반기별)  휴일변수  \n0  2099000.0     1  False    False  True  \n1  4371000.0     1  False    False  True  \n2  3262000.0     1  False    False  True  \n3  6955000.0     1  False    False  True  \n4  6672000.0     1  False    False  True  ",
      "text/html": "<div>\n<style scoped>\n    .dataframe tbody tr th:only-of-type {\n        vertical-align: middle;\n    }\n\n    .dataframe tbody tr th {\n        vertical-align: top;\n    }\n\n    .dataframe thead th {\n        text-align: right;\n    }\n</style>\n<table border=\"1\" class=\"dataframe\">\n  <thead>\n    <tr style=\"text-align: right;\">\n      <th></th>\n      <th>방송일시</th>\n      <th>노출(분)</th>\n      <th>마더코드</th>\n      <th>상품코드</th>\n      <th>상품명</th>\n      <th>상품군</th>\n      <th>판매단가</th>\n      <th>취급액</th>\n      <th>요일변수</th>\n      <th>주말변수</th>\n      <th>계절(반기별)</th>\n      <th>휴일변수</th>\n    </tr>\n  </thead>\n  <tbody>\n    <tr>\n      <th>0</th>\n      <td>2019-01-01 06:00:00</td>\n      <td>20.0</td>\n      <td>100346</td>\n      <td>201072</td>\n      <td>테이트 남성 셀린니트3종</td>\n      <td>의류</td>\n      <td>39900</td>\n      <td>2099000.0</td>\n      <td>1</td>\n      <td>False</td>\n      <td>False</td>\n      <td>True</td>\n    </tr>\n    <tr>\n      <th>1</th>\n      <td>2019-01-01 06:00:00</td>\n      <td>NaN</td>\n      <td>100346</td>\n      <td>201079</td>\n      <td>테이트 여성 셀린니트3종</td>\n      <td>의류</td>\n      <td>39900</td>\n      <td>4371000.0</td>\n      <td>1</td>\n      <td>False</td>\n      <td>False</td>\n      <td>True</td>\n    </tr>\n    <tr>\n      <th>2</th>\n      <td>2019-01-01 06:20:00</td>\n      <td>20.0</td>\n      <td>100346</td>\n      <td>201072</td>\n      <td>테이트 남성 셀린니트3종</td>\n      <td>의류</td>\n      <td>39900</td>\n      <td>3262000.0</td>\n      <td>1</td>\n      <td>False</td>\n      <td>False</td>\n      <td>True</td>\n    </tr>\n    <tr>\n      <th>3</th>\n      <td>2019-01-01 06:20:00</td>\n      <td>NaN</td>\n      <td>100346</td>\n      <td>201079</td>\n      <td>테이트 여성 셀린니트3종</td>\n      <td>의류</td>\n      <td>39900</td>\n      <td>6955000.0</td>\n      <td>1</td>\n      <td>False</td>\n      <td>False</td>\n      <td>True</td>\n    </tr>\n    <tr>\n      <th>4</th>\n      <td>2019-01-01 06:40:00</td>\n      <td>20.0</td>\n      <td>100346</td>\n      <td>201072</td>\n      <td>테이트 남성 셀린니트3종</td>\n      <td>의류</td>\n      <td>39900</td>\n      <td>6672000.0</td>\n      <td>1</td>\n      <td>False</td>\n      <td>False</td>\n      <td>True</td>\n    </tr>\n  </tbody>\n</table>\n</div>"
     },
     "metadata": {},
     "execution_count": 216
    }
   ],
   "source": [
    "data[data['휴일변수']].head()"
   ]
  },
  {
   "cell_type": "code",
   "execution_count": 174,
   "metadata": {},
   "outputs": [
    {
     "output_type": "execute_result",
     "data": {
      "text/plain": "16"
     },
     "metadata": {},
     "execution_count": 174
    }
   ],
   "source": [
    "len(date_holiday_2019)"
   ]
  },
  {
   "cell_type": "code",
   "execution_count": 175,
   "metadata": {},
   "outputs": [
    {
     "output_type": "execute_result",
     "data": {
      "text/plain": "0    False\n1    False\n2    False\n3    False\n4    False\nName: 방송일시, dtype: bool"
     },
     "metadata": {},
     "execution_count": 175
    }
   ],
   "source": [
    "data['방송일시'].isin(date_holiday_2019)"
   ]
  },
  {
   "cell_type": "markdown",
   "metadata": {},
   "source": [
    "# 계절(분기별)"
   ]
  },
  {
   "cell_type": "code",
   "execution_count": 229,
   "metadata": {},
   "outputs": [],
   "source": [
    "data['계절(분기별)'] = data['방송일시'].dt.quarter -1"
   ]
  },
  {
   "cell_type": "code",
   "execution_count": 230,
   "metadata": {},
   "outputs": [
    {
     "output_type": "execute_result",
     "data": {
      "text/plain": "0    0\n1    0\n2    0\n3    0\n4    0\nName: 계절(분기별), dtype: int64"
     },
     "metadata": {},
     "execution_count": 230
    }
   ],
   "source": [
    "data['계절(분기별)'].head()"
   ]
  },
  {
   "cell_type": "markdown",
   "metadata": {},
   "source": [
    "# 오전, 오후, 저녁 변수"
   ]
  },
  {
   "cell_type": "code",
   "execution_count": 280,
   "metadata": {},
   "outputs": [],
   "source": [
    "data['오전오후저녁'] = data['방송일시'].copy()"
   ]
  },
  {
   "cell_type": "code",
   "execution_count": 282,
   "metadata": {},
   "outputs": [
    {
     "output_type": "execute_result",
     "data": {
      "text/plain": "array([0, Timestamp('2019-01-01 12:00:00'),\n       Timestamp('2019-01-01 12:20:00'), ...,\n       Timestamp('2020-01-01 01:00:00'), Timestamp('2020-01-01 01:20:00'),\n       Timestamp('2020-01-01 01:40:00')], dtype=object)"
     },
     "metadata": {},
     "execution_count": 282
    }
   ],
   "source": [
    "data['오전오후저녁'].unique()"
   ]
  },
  {
   "cell_type": "code",
   "execution_count": 277,
   "metadata": {},
   "outputs": [],
   "source": [
    "del data['오전오후저녁']"
   ]
  },
  {
   "cell_type": "code",
   "execution_count": 407,
   "metadata": {},
   "outputs": [
    {
     "output_type": "execute_result",
     "data": {
      "text/plain": "count     38309\nunique        2\ntop       False\nfreq      27025\nName: 주말변수, dtype: object"
     },
     "metadata": {},
     "execution_count": 407
    }
   ],
   "source": [
    "data['주말변수'].describe()"
   ]
  },
  {
   "cell_type": "code",
   "execution_count": 251,
   "metadata": {},
   "outputs": [
    {
     "output_type": "execute_result",
     "data": {
      "text/plain": "0   2019-01-01 06:00:00\n1   2019-01-01 06:00:00\n2   2019-01-01 06:20:00\n3   2019-01-01 06:20:00\n4   2019-01-01 06:40:00\nName: 오전오후저녁, dtype: datetime64[ns]"
     },
     "metadata": {},
     "execution_count": 251
    }
   ],
   "source": [
    "data['오전오후저녁'].head()"
   ]
  },
  {
   "cell_type": "markdown",
   "metadata": {},
   "source": [
    "# 계절(반기별 변수)"
   ]
  },
  {
   "cell_type": "code",
   "execution_count": 433,
   "metadata": {},
   "outputs": [
    {
     "output_type": "execute_result",
     "data": {
      "text/plain": "                 방송일시  노출(분)    마더코드    상품코드            상품명 상품군   판매단가  \\\n0 2019-01-01 06:00:00   20.0  100346  201072  테이트 남성 셀린니트3종  의류  39900   \n1 2019-01-01 06:00:00    NaN  100346  201079  테이트 여성 셀린니트3종  의류  39900   \n2 2019-01-01 06:20:00   20.0  100346  201072  테이트 남성 셀린니트3종  의류  39900   \n3 2019-01-01 06:20:00    NaN  100346  201079  테이트 여성 셀린니트3종  의류  39900   \n4 2019-01-01 06:40:00   20.0  100346  201072  테이트 남성 셀린니트3종  의류  39900   \n\n         취급액  휴일변수  요일변수   주말변수  오전오후저녁  \n0  2099000.0  True     1  False       0  \n1  4371000.0  True     1  False       0  \n2  3262000.0  True     1  False       0  \n3  6955000.0  True     1  False       0  \n4  6672000.0  True     1  False       0  ",
      "text/html": "<div>\n<style scoped>\n    .dataframe tbody tr th:only-of-type {\n        vertical-align: middle;\n    }\n\n    .dataframe tbody tr th {\n        vertical-align: top;\n    }\n\n    .dataframe thead th {\n        text-align: right;\n    }\n</style>\n<table border=\"1\" class=\"dataframe\">\n  <thead>\n    <tr style=\"text-align: right;\">\n      <th></th>\n      <th>방송일시</th>\n      <th>노출(분)</th>\n      <th>마더코드</th>\n      <th>상품코드</th>\n      <th>상품명</th>\n      <th>상품군</th>\n      <th>판매단가</th>\n      <th>취급액</th>\n      <th>휴일변수</th>\n      <th>요일변수</th>\n      <th>주말변수</th>\n      <th>오전오후저녁</th>\n    </tr>\n  </thead>\n  <tbody>\n    <tr>\n      <th>0</th>\n      <td>2019-01-01 06:00:00</td>\n      <td>20.0</td>\n      <td>100346</td>\n      <td>201072</td>\n      <td>테이트 남성 셀린니트3종</td>\n      <td>의류</td>\n      <td>39900</td>\n      <td>2099000.0</td>\n      <td>True</td>\n      <td>1</td>\n      <td>False</td>\n      <td>0</td>\n    </tr>\n    <tr>\n      <th>1</th>\n      <td>2019-01-01 06:00:00</td>\n      <td>NaN</td>\n      <td>100346</td>\n      <td>201079</td>\n      <td>테이트 여성 셀린니트3종</td>\n      <td>의류</td>\n      <td>39900</td>\n      <td>4371000.0</td>\n      <td>True</td>\n      <td>1</td>\n      <td>False</td>\n      <td>0</td>\n    </tr>\n    <tr>\n      <th>2</th>\n      <td>2019-01-01 06:20:00</td>\n      <td>20.0</td>\n      <td>100346</td>\n      <td>201072</td>\n      <td>테이트 남성 셀린니트3종</td>\n      <td>의류</td>\n      <td>39900</td>\n      <td>3262000.0</td>\n      <td>True</td>\n      <td>1</td>\n      <td>False</td>\n      <td>0</td>\n    </tr>\n    <tr>\n      <th>3</th>\n      <td>2019-01-01 06:20:00</td>\n      <td>NaN</td>\n      <td>100346</td>\n      <td>201079</td>\n      <td>테이트 여성 셀린니트3종</td>\n      <td>의류</td>\n      <td>39900</td>\n      <td>6955000.0</td>\n      <td>True</td>\n      <td>1</td>\n      <td>False</td>\n      <td>0</td>\n    </tr>\n    <tr>\n      <th>4</th>\n      <td>2019-01-01 06:40:00</td>\n      <td>20.0</td>\n      <td>100346</td>\n      <td>201072</td>\n      <td>테이트 남성 셀린니트3종</td>\n      <td>의류</td>\n      <td>39900</td>\n      <td>6672000.0</td>\n      <td>True</td>\n      <td>1</td>\n      <td>False</td>\n      <td>0</td>\n    </tr>\n  </tbody>\n</table>\n</div>"
     },
     "metadata": {},
     "execution_count": 433
    }
   ],
   "source": [
    "data.head()"
   ]
  },
  {
   "cell_type": "code",
   "execution_count": 178,
   "metadata": {},
   "outputs": [],
   "source": [
    "data['계절(반기별)'] = data['방송일시'].dt.month.isin([7,8,9,10,11,12])"
   ]
  },
  {
   "cell_type": "markdown",
   "metadata": {},
   "source": [
    "# 계절(분기별)"
   ]
  },
  {
   "cell_type": "code",
   "execution_count": null,
   "metadata": {},
   "outputs": [],
   "source": []
  },
  {
   "cell_type": "code",
   "execution_count": 184,
   "metadata": {},
   "outputs": [
    {
     "output_type": "execute_result",
     "data": {
      "text/plain": "False    19191\nTrue     19118\nName: 계절(반기별), dtype: int64"
     },
     "metadata": {},
     "execution_count": 184
    }
   ],
   "source": [
    "data['계절(반기별)'].value_counts()"
   ]
  }
 ]
}